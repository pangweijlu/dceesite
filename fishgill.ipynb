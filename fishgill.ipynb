{
  "nbformat": 4,
  "nbformat_minor": 0,
  "metadata": {
    "colab": {
      "name": "fishgill.ipynb",
      "provenance": [],
      "authorship_tag": "ABX9TyOiOKk0HCaFFZZ4VDnu91xg",
      "include_colab_link": true
    },
    "kernelspec": {
      "name": "python3",
      "display_name": "Python 3"
    },
    "language_info": {
      "name": "python"
    }
  },
  "cells": [
    {
      "cell_type": "markdown",
      "metadata": {
        "id": "view-in-github",
        "colab_type": "text"
      },
      "source": [
        "<a href=\"https://colab.research.google.com/github/pangweijlu/dceesite/blob/master/fishgill.ipynb\" target=\"_parent\"><img src=\"https://colab.research.google.com/assets/colab-badge.svg\" alt=\"Open In Colab\"/></a>"
      ]
    },
    {
      "cell_type": "markdown",
      "source": [
        "We first start from detect the lamilar fusion"
      ],
      "metadata": {
        "id": "UbQPXhec96iu"
      }
    },
    {
      "cell_type": "code",
      "execution_count": 2,
      "metadata": {
        "colab": {
          "base_uri": "https://localhost:8080/"
        },
        "id": "RWVYjXgY9FbE",
        "outputId": "0298f6a9-093c-4025-908b-9c99096e4aaa"
      },
      "outputs": [
        {
          "output_type": "stream",
          "name": "stdout",
          "text": [
            "Looking in indexes: https://pypi.org/simple, https://us-python.pkg.dev/colab-wheels/public/simple/\n",
            "Requirement already satisfied: gdown in /usr/local/lib/python3.7/dist-packages (4.4.0)\n",
            "Requirement already satisfied: six in /usr/local/lib/python3.7/dist-packages (from gdown) (1.15.0)\n",
            "Requirement already satisfied: beautifulsoup4 in /usr/local/lib/python3.7/dist-packages (from gdown) (4.6.3)\n",
            "Requirement already satisfied: requests[socks] in /usr/local/lib/python3.7/dist-packages (from gdown) (2.23.0)\n",
            "Requirement already satisfied: tqdm in /usr/local/lib/python3.7/dist-packages (from gdown) (4.64.0)\n",
            "Requirement already satisfied: filelock in /usr/local/lib/python3.7/dist-packages (from gdown) (3.7.0)\n",
            "Requirement already satisfied: chardet<4,>=3.0.2 in /usr/local/lib/python3.7/dist-packages (from requests[socks]->gdown) (3.0.4)\n",
            "Requirement already satisfied: idna<3,>=2.5 in /usr/local/lib/python3.7/dist-packages (from requests[socks]->gdown) (2.10)\n",
            "Requirement already satisfied: urllib3!=1.25.0,!=1.25.1,<1.26,>=1.21.1 in /usr/local/lib/python3.7/dist-packages (from requests[socks]->gdown) (1.24.3)\n",
            "Requirement already satisfied: certifi>=2017.4.17 in /usr/local/lib/python3.7/dist-packages (from requests[socks]->gdown) (2022.5.18.1)\n",
            "Requirement already satisfied: PySocks!=1.5.7,>=1.5.6 in /usr/local/lib/python3.7/dist-packages (from requests[socks]->gdown) (1.7.1)\n"
          ]
        }
      ],
      "source": [
        "!pip install gdown  # gdown is used to download large files from google drive."
      ]
    },
    {
      "cell_type": "markdown",
      "source": [
        "Download the gill dataset"
      ],
      "metadata": {
        "id": "ssSD_9mT92C_"
      }
    },
    {
      "cell_type": "code",
      "source": [
        "!gdown https://drive.google.com/uc?id=1VZ00_mogQK09qob6U0QCZOQppUXIi7oE # download the zip file"
      ],
      "metadata": {
        "colab": {
          "base_uri": "https://localhost:8080/"
        },
        "id": "dwpvmMOL95lQ",
        "outputId": "04bc7290-6f86-4bcc-a096-59002a1bed2c"
      },
      "execution_count": 6,
      "outputs": [
        {
          "output_type": "stream",
          "name": "stdout",
          "text": [
            "Downloading...\n",
            "From: https://drive.google.com/uc?id=1VZ00_mogQK09qob6U0QCZOQppUXIi7oE\n",
            "To: /content/tiles_10.zip\n",
            "100% 2.31G/2.31G [00:41<00:00, 55.2MB/s]\n"
          ]
        }
      ]
    },
    {
      "cell_type": "code",
      "source": [
        "import os\n",
        "import zipfile\n",
        "\n",
        "local_zip = '/content/tiles_10.zip'  # you may need to change the path based on your own enviroment\n",
        "zip_ref = zipfile.ZipFile(local_zip, 'r')\n",
        "zip_ref.extractall('/content')\n",
        "zip_ref.close()"
      ],
      "metadata": {
        "id": "CZbxCjCQBLEN"
      },
      "execution_count": 7,
      "outputs": []
    },
    {
      "cell_type": "markdown",
      "source": [
        "### Loading data and perform data augmentation.\n",
        "\n",
        " https://vijayabhaskar96.medium.com/tutorial-image-classification-with-keras-flow-from-directory-and-generators-95f75ebe5720"
      ],
      "metadata": {
        "id": "cfAlkCEyBmHa"
      }
    },
    {
      "cell_type": "code",
      "source": [
        "\n",
        "\n",
        "from keras.preprocessing.image import ImageDataGenerator\n",
        "\n",
        "path = '/content/tiles_10' # you may need to change the path based on your own enviroment\n",
        "\n",
        "classes=[\"positive\",  \"negative\"]\n",
        "num_classes = len(classes)\n",
        "print(num_classes)\n",
        "batch_size=32\n",
        "\n",
        "#split data into train and test\n",
        "datagen = ImageDataGenerator(rotation_range=20, zoom_range=0.15, width_shift_range=0.2, height_shift_range=0.2, shear_range=0.15, horizontal_flip=True, fill_mode=\"nearest\", rescale=1./255, validation_split=0.2)\n",
        "\n",
        "#load training image set\n",
        "train_gen = datagen.flow_from_directory(directory=path, \n",
        "                                              target_size=(512, 512),\n",
        "                                              class_mode='categorical',\n",
        "                                              subset='training',\n",
        "                                              shuffle=True, classes=classes,\n",
        "                                              batch_size=batch_size, \n",
        "                                              color_mode=\"rgb\")\n",
        "#load testing set\n",
        "test_gen = datagen.flow_from_directory(directory=path, \n",
        "                                              target_size=(512, 512),\n",
        "                                              class_mode='categorical',\n",
        "                                              subset='validation',\n",
        "                                              shuffle=True, classes=classes,\n",
        "                                              batch_size=batch_size, \n",
        "                                              color_mode=\"rgb\")\n",
        "\n"
      ],
      "metadata": {
        "colab": {
          "base_uri": "https://localhost:8080/"
        },
        "id": "PUTyPcZZBuKQ",
        "outputId": "7ed3ca24-672c-4368-8b44-ddaaf2980480"
      },
      "execution_count": 12,
      "outputs": [
        {
          "output_type": "stream",
          "name": "stdout",
          "text": [
            "2\n",
            "Found 2809 images belonging to 2 classes.\n",
            "Found 701 images belonging to 2 classes.\n"
          ]
        }
      ]
    }
  ]
}